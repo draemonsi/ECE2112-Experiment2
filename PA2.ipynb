{
 "cells": [
  {
   "cell_type": "markdown",
   "id": "fadfd305-84fe-4166-890b-7d20322681c5",
   "metadata": {},
   "source": [
    "## Normalization problem"
   ]
  },
  {
   "cell_type": "code",
   "execution_count": 30,
   "id": "08c5bd25-69d1-470b-a292-03470c77cbdb",
   "metadata": {},
   "outputs": [
    {
     "name": "stdout",
     "output_type": "stream",
     "text": [
      "Normalized Array:\n",
      " [[ 1.36392002  0.42452654  1.03266149 -1.378528    1.09018092]\n",
      " [ 0.10818285 -1.37114775 -0.68673394  0.35676093 -1.89138546]\n",
      " [-0.15315414  0.23655741 -0.04034996  0.72117148 -1.61950912]\n",
      " [-0.03228547  0.67999943  1.08893866 -1.31605897  0.80261589]\n",
      " [ 1.42239826 -1.35907518  0.45906597 -0.8072338   0.86848195]]\n"
     ]
    }
   ],
   "source": [
    "import numpy as np\n",
    "\n",
    "# Create a random 5x5 ndarray\n",
    "X = np.random.rand(5, 5)\n",
    "\n",
    "# Normalize the array using the formula Z = (X - mean) / std\n",
    "X_mean = X.mean()\n",
    "X_std = X.std()\n",
    "X_normalized = (X - X_mean) / X_std\n",
    "\n",
    "# Save the normalized ndarray as 'X_normalized.npy'\n",
    "np.save('X_normalized.npy', X_normalized)\n",
    "\n",
    "# Print the array to see the result\n",
    "print(\"Normalized Array:\\n\", X_normalized)"
   ]
  },
  {
   "cell_type": "markdown",
   "id": "e9b13b89-093f-4ce8-a90e-b931f76dcf25",
   "metadata": {},
   "source": [
    "## Divisible by 3 Problem"
   ]
  },
  {
   "cell_type": "code",
   "execution_count": 22,
   "id": "018491c8-0cc0-40f3-bf66-bc5aebf3d007",
   "metadata": {
    "scrolled": true
   },
   "outputs": [
    {
     "name": "stdout",
     "output_type": "stream",
     "text": [
      "Elements Divisible by 3:\n",
      " [   9   36   81  144  225  324  441  576  729  900 1089 1296 1521 1764\n",
      " 2025 2304 2601 2916 3249 3600 3969 4356 4761 5184 5625 6084 6561 7056\n",
      " 7569 8100 8649 9216 9801]\n"
     ]
    }
   ],
   "source": [
    "import numpy as np\n",
    "\n",
    "# Create a 10x10 ndarray of the squares of the first 100 positive integers\n",
    "A = np.arange(1, 101).reshape(10, 10) ** 2\n",
    "\n",
    "# Filter out the elements that are divisible by 3\n",
    "div_by_3 = A[A % 3 == 0]\n",
    "\n",
    "# Save the result as 'div_by_3.npy'\n",
    "np.save('div_by_3.npy', div_by_3)\n",
    "\n",
    "# Print the array to see the result\n",
    "print(\"Elements Divisible by 3:\\n\", div_by_3)"
   ]
  },
  {
   "cell_type": "code",
   "execution_count": null,
   "id": "c2f0c7b9-f022-4880-8978-409d20ccc818",
   "metadata": {},
   "outputs": [],
   "source": []
  }
 ],
 "metadata": {
  "kernelspec": {
   "display_name": "Python 3 (ipykernel)",
   "language": "python",
   "name": "python3"
  },
  "language_info": {
   "codemirror_mode": {
    "name": "ipython",
    "version": 3
   },
   "file_extension": ".py",
   "mimetype": "text/x-python",
   "name": "python",
   "nbconvert_exporter": "python",
   "pygments_lexer": "ipython3",
   "version": "3.12.4"
  }
 },
 "nbformat": 4,
 "nbformat_minor": 5
}
